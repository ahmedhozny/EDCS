{
 "cells": [
  {
   "cell_type": "markdown",
   "source": [
    "## Libraries"
   ],
   "metadata": {
    "collapsed": false
   },
   "id": "33f8366e0a8e818e"
  },
  {
   "cell_type": "code",
   "execution_count": 1,
   "id": "initial_id",
   "metadata": {
    "collapsed": true,
    "ExecuteTime": {
     "end_time": "2024-01-10T20:38:18.220629420Z",
     "start_time": "2024-01-10T20:38:14.520018137Z"
    }
   },
   "outputs": [
    {
     "name": "stderr",
     "output_type": "stream",
     "text": [
      "2024-01-10 22:38:15.628327: E external/local_xla/xla/stream_executor/cuda/cuda_dnn.cc:9261] Unable to register cuDNN factory: Attempting to register factory for plugin cuDNN when one has already been registered\n",
      "2024-01-10 22:38:15.628353: E external/local_xla/xla/stream_executor/cuda/cuda_fft.cc:607] Unable to register cuFFT factory: Attempting to register factory for plugin cuFFT when one has already been registered\n",
      "2024-01-10 22:38:15.629734: E external/local_xla/xla/stream_executor/cuda/cuda_blas.cc:1515] Unable to register cuBLAS factory: Attempting to register factory for plugin cuBLAS when one has already been registered\n",
      "2024-01-10 22:38:15.636970: I tensorflow/core/platform/cpu_feature_guard.cc:182] This TensorFlow binary is optimized to use available CPU instructions in performance-critical operations.\n",
      "To enable the following instructions: AVX2 FMA, in other operations, rebuild TensorFlow with the appropriate compiler flags.\n",
      "2024-01-10 22:38:16.809764: W tensorflow/compiler/tf2tensorrt/utils/py_utils.cc:38] TF-TRT Warning: Could not find TensorRT\n"
     ]
    }
   ],
   "source": [
    "import os\n",
    "\n",
    "from sklearn.metrics import accuracy_score\n",
    "from sklearn.model_selection import train_test_split\n",
    "\n",
    "from models import neural_binary_model\n",
    "from storage import save_data, load_data, save_label_encoder, load_label_encoder\n",
    "from tools import prepare_dataset2\n",
    "from tools import preprocess_labels"
   ]
  },
  {
   "cell_type": "markdown",
   "source": [
    "## CUDA\n",
    "Uncomment to force tensorflow to use CPU for training and testing"
   ],
   "metadata": {
    "collapsed": false
   },
   "id": "b3b043e2c90c0e46"
  },
  {
   "cell_type": "code",
   "outputs": [],
   "source": [
    "os.environ['CUDA_VISIBLE_DEVICES'] = '-1'"
   ],
   "metadata": {
    "collapsed": false,
    "ExecuteTime": {
     "end_time": "2024-01-10T20:38:18.223694159Z",
     "start_time": "2024-01-10T20:38:18.221935241Z"
    }
   },
   "id": "664341e6a4295814",
   "execution_count": 2
  },
  {
   "cell_type": "markdown",
   "source": [
    "## Parameters"
   ],
   "metadata": {
    "collapsed": false
   },
   "id": "f23d5d0be8859da2"
  },
  {
   "cell_type": "code",
   "outputs": [],
   "source": [
    "storage_path = \"./storage/DS2/\"\n",
    "\n",
    "save_to_file = True\n",
    "load_from_files = False\n",
    "\n",
    "save_model_to_file = False\n",
    "load_model_to_file = False\n",
    "\n",
    "#Ignored if train and test sets are loaded from disk\n",
    "n_sample = 300 #[set None to include the whole dataset] "
   ],
   "metadata": {
    "collapsed": false,
    "ExecuteTime": {
     "end_time": "2024-01-10T20:38:18.302272047Z",
     "start_time": "2024-01-10T20:38:18.224836369Z"
    }
   },
   "id": "5360348250f07d8b",
   "execution_count": 3
  },
  {
   "cell_type": "markdown",
   "source": [
    "## Data Loading"
   ],
   "metadata": {
    "collapsed": false
   },
   "id": "ebdbf59329658695"
  },
  {
   "cell_type": "code",
   "outputs": [],
   "source": [
    "if load_from_files:\n",
    "    try:\n",
    "        X_train, X_test, y_train, y_test = load_data(storage_path)\n",
    "        encoder = load_label_encoder(storage_path)\n",
    "    except FileNotFoundError:\n",
    "        load_from_files = False"
   ],
   "metadata": {
    "collapsed": false,
    "ExecuteTime": {
     "end_time": "2024-01-10T20:38:18.396757335Z",
     "start_time": "2024-01-10T20:38:18.303255676Z"
    }
   },
   "id": "898209e463153e42",
   "execution_count": 4
  },
  {
   "cell_type": "markdown",
   "source": [
    "## Data preparation"
   ],
   "metadata": {
    "collapsed": false
   },
   "id": "93c9928c0d7e8b6a"
  },
  {
   "cell_type": "code",
   "outputs": [
    {
     "name": "stdout",
     "output_type": "stream",
     "text": [
      "(212100, 2, 300) (212100, 2)\n"
     ]
    }
   ],
   "source": [
    "if not load_from_files:\n",
    "    # Load your data and labels\n",
    "    X, y = prepare_dataset2(sample_size=n_sample, keep_all_features=True, separate=True)\n",
    "\n",
    "    # Convert labels to numpy array\n",
    "    y, encoder = preprocess_labels(y)\n",
    "\n",
    "    print(X.shape, y.shape)\n",
    "    # Split the data into training and testing sets\n",
    "    X_train, X_test, y_train, y_test = train_test_split(X, y, test_size=0.2, random_state=42)\n",
    "\n",
    "    # Release memory by deleting the original data\n",
    "    del X, y\n",
    "\n",
    "    # Reshape the data\n",
    "    X_train = X_train.reshape(X_train.shape[0], -1)\n",
    "    X_test = X_test.reshape(X_test.shape[0], -1)\n",
    "\n",
    "    if save_to_file:\n",
    "        # Save the data and labels to files\n",
    "        save_data(X_train, X_test, y_train, y_test, storage_path)\n",
    "        save_label_encoder(encoder, storage_path)\n",
    "\n",
    "        # Load the data and labels back from the files (for mmap_mode)\n",
    "        X_train, X_test, y_train, y_test = load_data(storage_path)"
   ],
   "metadata": {
    "collapsed": false,
    "ExecuteTime": {
     "end_time": "2024-01-10T20:38:27.012253985Z",
     "start_time": "2024-01-10T20:38:18.398280330Z"
    }
   },
   "id": "68e6cead9a5a0ce7",
   "execution_count": 5
  },
  {
   "cell_type": "markdown",
   "source": [
    "## Model Fitting"
   ],
   "metadata": {
    "collapsed": false
   },
   "id": "3c453ebe06e58193"
  },
  {
   "cell_type": "markdown",
   "source": [
    "### Neural Binary Model\n"
   ],
   "metadata": {
    "collapsed": false
   },
   "id": "3d42472766765116"
  },
  {
   "cell_type": "code",
   "outputs": [
    {
     "name": "stdout",
     "output_type": "stream",
     "text": [
      "(169680, 600) (169680, 2)\n"
     ]
    },
    {
     "name": "stderr",
     "output_type": "stream",
     "text": [
      "2024-01-10 22:38:29.078963: E external/local_xla/xla/stream_executor/cuda/cuda_driver.cc:274] failed call to cuInit: CUDA_ERROR_NO_DEVICE: no CUDA-capable device is detected\n",
      "2024-01-10 22:38:29.079035: I external/local_xla/xla/stream_executor/cuda/cuda_diagnostics.cc:129] retrieving CUDA diagnostic information for host: ahmedh-GF63-Thin-10UD\n",
      "2024-01-10 22:38:29.079041: I external/local_xla/xla/stream_executor/cuda/cuda_diagnostics.cc:136] hostname: ahmedh-GF63-Thin-10UD\n",
      "2024-01-10 22:38:29.079247: I external/local_xla/xla/stream_executor/cuda/cuda_diagnostics.cc:159] libcuda reported version is: 525.147.5\n",
      "2024-01-10 22:38:29.079263: I external/local_xla/xla/stream_executor/cuda/cuda_diagnostics.cc:163] kernel reported version is: 525.147.5\n",
      "2024-01-10 22:38:29.079267: I external/local_xla/xla/stream_executor/cuda/cuda_diagnostics.cc:241] kernel version seems to match DSO: 525.147.5\n"
     ]
    },
    {
     "name": "stdout",
     "output_type": "stream",
     "text": [
      "Epoch 1/10\n",
      "2121/2121 [==============================] - 10s 4ms/step - loss: 0.2618 - val_loss: 0.2574\n",
      "Epoch 2/10\n",
      "2121/2121 [==============================] - 9s 4ms/step - loss: 0.2543 - val_loss: 0.2563\n",
      "Epoch 3/10\n",
      "2121/2121 [==============================] - 9s 4ms/step - loss: 0.2536 - val_loss: 0.2555\n",
      "Epoch 4/10\n",
      "2121/2121 [==============================] - 9s 4ms/step - loss: 0.2535 - val_loss: 0.2556\n",
      "Epoch 5/10\n",
      "2121/2121 [==============================] - 9s 4ms/step - loss: 0.2535 - val_loss: 0.2554\n",
      "Epoch 6/10\n",
      "2121/2121 [==============================] - 9s 4ms/step - loss: 0.2535 - val_loss: 0.2554\n",
      "Epoch 7/10\n",
      "2121/2121 [==============================] - 8s 4ms/step - loss: 0.2535 - val_loss: 0.2554\n",
      "Epoch 8/10\n",
      "2121/2121 [==============================] - 8s 4ms/step - loss: 0.2535 - val_loss: 0.2554\n",
      "Epoch 9/10\n",
      "2121/2121 [==============================] - 8s 4ms/step - loss: 0.2535 - val_loss: 0.2554\n",
      "Epoch 10/10\n",
      "2121/2121 [==============================] - 9s 4ms/step - loss: 0.2535 - val_loss: 0.2554\n"
     ]
    },
    {
     "data": {
      "text/plain": "<keras.src.callbacks.History at 0x7f1a20150fd0>"
     },
     "execution_count": 6,
     "metadata": {},
     "output_type": "execute_result"
    }
   ],
   "source": [
    "print(X_train.shape, y_train.shape)\n",
    "\n",
    "# Create a neural network model\n",
    "model = neural_binary_model(X_train.shape[1])\n",
    "\n",
    "# Train the model\n",
    "model.fit(X_train, y_train, epochs=10, batch_size=64, validation_split=0.2)"
   ],
   "metadata": {
    "collapsed": false,
    "ExecuteTime": {
     "end_time": "2024-01-10T20:39:59.711920771Z",
     "start_time": "2024-01-10T20:38:27.014065312Z"
    }
   },
   "id": "a8db29e225615c1c",
   "execution_count": 6
  },
  {
   "cell_type": "markdown",
   "source": [
    "## Evaluation"
   ],
   "metadata": {
    "collapsed": false
   },
   "id": "5174877f6272542"
  },
  {
   "cell_type": "code",
   "outputs": [
    {
     "name": "stdout",
     "output_type": "stream",
     "text": [
      "1326/1326 [==============================] - 1s 889us/step\n",
      "Accuracy: 0.92998585572843\n"
     ]
    }
   ],
   "source": [
    "# Evaluate the model on the test set\n",
    "y_pred = model.predict(X_test)\n",
    "y_pred_binary = (y_pred > 0.5).astype(int)\n",
    "\n",
    "# Convert one-hot encoded labels back to original labels\n",
    "y_test_labels = encoder.inverse_transform(y_test.argmax(axis=1))\n",
    "y_pred_labels = encoder.inverse_transform(y_pred_binary.argmax(axis=1))\n",
    "\n",
    "# Evaluate the performance\n",
    "accuracy = accuracy_score(y_test_labels, y_pred_labels)\n",
    "print(f\"Accuracy: {accuracy}\")\n"
   ],
   "metadata": {
    "collapsed": false,
    "ExecuteTime": {
     "end_time": "2024-01-10T20:40:01.497304936Z",
     "start_time": "2024-01-10T20:39:59.714204597Z"
    }
   },
   "id": "ece4bd687a4b1aca",
   "execution_count": 7
  }
 ],
 "metadata": {
  "kernelspec": {
   "display_name": "Python 3",
   "language": "python",
   "name": "python3"
  },
  "language_info": {
   "codemirror_mode": {
    "name": "ipython",
    "version": 2
   },
   "file_extension": ".py",
   "mimetype": "text/x-python",
   "name": "python",
   "nbconvert_exporter": "python",
   "pygments_lexer": "ipython2",
   "version": "2.7.6"
  }
 },
 "nbformat": 4,
 "nbformat_minor": 5
}
