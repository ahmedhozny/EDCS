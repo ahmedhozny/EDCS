{
 "cells": [
  {
   "cell_type": "markdown",
   "source": [
    "# Project: DrugGuardian Pro"
   ],
   "metadata": {
    "collapsed": false
   },
   "id": "79b1bc5f0975c37c"
  },
  {
   "cell_type": "markdown",
   "source": [
    "## Setup"
   ],
   "metadata": {
    "collapsed": false
   },
   "id": "cb7c940d2aa1e446"
  },
  {
   "cell_type": "code",
   "outputs": [],
   "source": [
    "import os\n",
    "os.environ['TF_CPP_MIN_LOG_LEVEL'] = '3' "
   ],
   "metadata": {
    "collapsed": false,
    "ExecuteTime": {
     "end_time": "2024-01-19T19:43:23.610000508Z",
     "start_time": "2024-01-19T19:43:23.609299763Z"
    }
   },
   "id": "59562cb25b3befa6",
   "execution_count": 1
  },
  {
   "cell_type": "markdown",
   "source": [
    "## Tensorflow with CUDA\n",
    "Uncomment to force tensorflow to use CPU for training and testing"
   ],
   "metadata": {
    "collapsed": false
   },
   "id": "b3b043e2c90c0e46"
  },
  {
   "cell_type": "markdown",
   "source": [
    "## Libraries"
   ],
   "metadata": {
    "collapsed": false
   },
   "id": "33f8366e0a8e818e"
  },
  {
   "cell_type": "code",
   "outputs": [],
   "source": [
    "#os.environ['CUDA_VISIBLE_DEVICES'] = '-1'"
   ],
   "metadata": {
    "collapsed": false,
    "ExecuteTime": {
     "end_time": "2024-01-19T19:43:23.713279819Z",
     "start_time": "2024-01-19T19:43:23.609548308Z"
    }
   },
   "id": "664341e6a4295814",
   "execution_count": 2
  },
  {
   "cell_type": "code",
   "outputs": [],
   "source": [
    "import numpy as np\n",
    "from sklearn.metrics import accuracy_score, confusion_matrix\n",
    "from sklearn.metrics import roc_auc_score, roc_curve, auc, precision_recall_curve, f1_score, recall_score, precision_score\n",
    "from sklearn.model_selection import train_test_split\n",
    "\n",
    "from models import neural_binary_model, k_nearest_neighbors, linear_discriminant_analysis\n",
    "from storage import save_data, load_data, save_label_encoder, load_label_encoder\n",
    "from tools import prepare_dataset1, preprocess_labels"
   ],
   "metadata": {
    "collapsed": true,
    "ExecuteTime": {
     "end_time": "2024-01-19T19:43:48.338754813Z",
     "start_time": "2024-01-19T19:43:23.752509006Z"
    }
   },
   "id": "initial_id",
   "execution_count": 3
  },
  {
   "cell_type": "markdown",
   "source": [
    "## Parameters"
   ],
   "metadata": {
    "collapsed": false
   },
   "id": "f23d5d0be8859da2"
  },
  {
   "cell_type": "code",
   "outputs": [],
   "source": [
    "storage_path = \"./storage/DS1/\"\n",
    "\n",
    "save_to_file = True\n",
    "load_from_files = True\n",
    "\n",
    "save_model_to_file = False\n",
    "load_model_from_file = False\n",
    "\n",
    "#Ignored if train and test sets are loaded from disk\n",
    "n_sample = None #[set None to include the whole dataset] "
   ],
   "metadata": {
    "collapsed": false,
    "ExecuteTime": {
     "end_time": "2024-01-19T19:43:48.364888190Z",
     "start_time": "2024-01-19T19:43:48.340084516Z"
    }
   },
   "id": "5360348250f07d8b",
   "execution_count": 4
  },
  {
   "cell_type": "markdown",
   "source": [
    "## Data Loading\n",
    "Trys loading data from files on disk"
   ],
   "metadata": {
    "collapsed": false
   },
   "id": "ebdbf59329658695"
  },
  {
   "cell_type": "code",
   "outputs": [],
   "source": [
    "if load_from_files:\n",
    "    try:\n",
    "        X_train, X_test, y_train, y_test = load_data(storage_path)\n",
    "        encoder = load_label_encoder(storage_path)\n",
    "    except FileNotFoundError:\n",
    "        # disables loading from files (flag)\n",
    "        load_from_files = False"
   ],
   "metadata": {
    "collapsed": false,
    "ExecuteTime": {
     "end_time": "2024-01-19T19:43:48.468683213Z",
     "start_time": "2024-01-19T19:43:48.365208137Z"
    }
   },
   "id": "898209e463153e42",
   "execution_count": 5
  },
  {
   "cell_type": "markdown",
   "source": [
    "## Data preparation\n",
    "In case loading from files is disabled or unsuccessful"
   ],
   "metadata": {
    "collapsed": false
   },
   "id": "93c9928c0d7e8b6a"
  },
  {
   "cell_type": "code",
   "outputs": [],
   "source": [
    "if not load_from_files:\n",
    "    # Load your data and labels\n",
    "    X, y = prepare_dataset1(sample_size=n_sample, keep_all_features=False, separate=True)\n",
    "\n",
    "    # Convert labels to numpy array\n",
    "    y, encoder = preprocess_labels(y)\n",
    "\n",
    "    # Split the data into training and testing sets\n",
    "    X_train, X_test, y_train, y_test = train_test_split(X, y, test_size=0.2, random_state=42)\n",
    "\n",
    "    # Release memory by deleting the original data\n",
    "    del X, y\n",
    "\n",
    "    # Reshape the data\n",
    "    X_train = X_train.reshape(X_train.shape[0], -1)\n",
    "    X_test = X_test.reshape(X_test.shape[0], -1)\n",
    "\n",
    "    if save_to_file:\n",
    "        # Save the data and labels to files\n",
    "        save_data(X_train, X_test, y_train, y_test, storage_path)\n",
    "        save_label_encoder(encoder, storage_path)\n",
    "\n",
    "        # Load the data and labels back from the files (for mmap_mode)\n",
    "        X_train, X_test, y_train, y_test = load_data(storage_path)"
   ],
   "metadata": {
    "collapsed": false,
    "ExecuteTime": {
     "end_time": "2024-01-19T19:43:48.572094999Z",
     "start_time": "2024-01-19T19:43:48.501862442Z"
    }
   },
   "id": "68e6cead9a5a0ce7",
   "execution_count": 6
  },
  {
   "cell_type": "markdown",
   "source": [
    "## Model Fitting"
   ],
   "metadata": {
    "collapsed": false
   },
   "id": "3c453ebe06e58193"
  },
  {
   "cell_type": "markdown",
   "source": [
    "### K-Nearest Neighbors\n"
   ],
   "metadata": {
    "collapsed": false
   },
   "id": "84b2eeb3c89adc5b"
  },
  {
   "cell_type": "code",
   "outputs": [
    {
     "data": {
      "text/plain": "KNeighborsClassifier(n_neighbors=21)",
      "text/html": "<style>#sk-container-id-1 {color: black;}#sk-container-id-1 pre{padding: 0;}#sk-container-id-1 div.sk-toggleable {background-color: white;}#sk-container-id-1 label.sk-toggleable__label {cursor: pointer;display: block;width: 100%;margin-bottom: 0;padding: 0.3em;box-sizing: border-box;text-align: center;}#sk-container-id-1 label.sk-toggleable__label-arrow:before {content: \"▸\";float: left;margin-right: 0.25em;color: #696969;}#sk-container-id-1 label.sk-toggleable__label-arrow:hover:before {color: black;}#sk-container-id-1 div.sk-estimator:hover label.sk-toggleable__label-arrow:before {color: black;}#sk-container-id-1 div.sk-toggleable__content {max-height: 0;max-width: 0;overflow: hidden;text-align: left;background-color: #f0f8ff;}#sk-container-id-1 div.sk-toggleable__content pre {margin: 0.2em;color: black;border-radius: 0.25em;background-color: #f0f8ff;}#sk-container-id-1 input.sk-toggleable__control:checked~div.sk-toggleable__content {max-height: 200px;max-width: 100%;overflow: auto;}#sk-container-id-1 input.sk-toggleable__control:checked~label.sk-toggleable__label-arrow:before {content: \"▾\";}#sk-container-id-1 div.sk-estimator input.sk-toggleable__control:checked~label.sk-toggleable__label {background-color: #d4ebff;}#sk-container-id-1 div.sk-label input.sk-toggleable__control:checked~label.sk-toggleable__label {background-color: #d4ebff;}#sk-container-id-1 input.sk-hidden--visually {border: 0;clip: rect(1px 1px 1px 1px);clip: rect(1px, 1px, 1px, 1px);height: 1px;margin: -1px;overflow: hidden;padding: 0;position: absolute;width: 1px;}#sk-container-id-1 div.sk-estimator {font-family: monospace;background-color: #f0f8ff;border: 1px dotted black;border-radius: 0.25em;box-sizing: border-box;margin-bottom: 0.5em;}#sk-container-id-1 div.sk-estimator:hover {background-color: #d4ebff;}#sk-container-id-1 div.sk-parallel-item::after {content: \"\";width: 100%;border-bottom: 1px solid gray;flex-grow: 1;}#sk-container-id-1 div.sk-label:hover label.sk-toggleable__label {background-color: #d4ebff;}#sk-container-id-1 div.sk-serial::before {content: \"\";position: absolute;border-left: 1px solid gray;box-sizing: border-box;top: 0;bottom: 0;left: 50%;z-index: 0;}#sk-container-id-1 div.sk-serial {display: flex;flex-direction: column;align-items: center;background-color: white;padding-right: 0.2em;padding-left: 0.2em;position: relative;}#sk-container-id-1 div.sk-item {position: relative;z-index: 1;}#sk-container-id-1 div.sk-parallel {display: flex;align-items: stretch;justify-content: center;background-color: white;position: relative;}#sk-container-id-1 div.sk-item::before, #sk-container-id-1 div.sk-parallel-item::before {content: \"\";position: absolute;border-left: 1px solid gray;box-sizing: border-box;top: 0;bottom: 0;left: 50%;z-index: -1;}#sk-container-id-1 div.sk-parallel-item {display: flex;flex-direction: column;z-index: 1;position: relative;background-color: white;}#sk-container-id-1 div.sk-parallel-item:first-child::after {align-self: flex-end;width: 50%;}#sk-container-id-1 div.sk-parallel-item:last-child::after {align-self: flex-start;width: 50%;}#sk-container-id-1 div.sk-parallel-item:only-child::after {width: 0;}#sk-container-id-1 div.sk-dashed-wrapped {border: 1px dashed gray;margin: 0 0.4em 0.5em 0.4em;box-sizing: border-box;padding-bottom: 0.4em;background-color: white;}#sk-container-id-1 div.sk-label label {font-family: monospace;font-weight: bold;display: inline-block;line-height: 1.2em;}#sk-container-id-1 div.sk-label-container {text-align: center;}#sk-container-id-1 div.sk-container {/* jupyter's `normalize.less` sets `[hidden] { display: none; }` but bootstrap.min.css set `[hidden] { display: none !important; }` so we also need the `!important` here to be able to override the default hidden behavior on the sphinx rendered scikit-learn.org. See: https://github.com/scikit-learn/scikit-learn/issues/21755 */display: inline-block !important;position: relative;}#sk-container-id-1 div.sk-text-repr-fallback {display: none;}</style><div id=\"sk-container-id-1\" class=\"sk-top-container\"><div class=\"sk-text-repr-fallback\"><pre>KNeighborsClassifier(n_neighbors=21)</pre><b>In a Jupyter environment, please rerun this cell to show the HTML representation or trust the notebook. <br />On GitHub, the HTML representation is unable to render, please try loading this page with nbviewer.org.</b></div><div class=\"sk-container\" hidden><div class=\"sk-item\"><div class=\"sk-estimator sk-toggleable\"><input class=\"sk-toggleable__control sk-hidden--visually\" id=\"sk-estimator-id-1\" type=\"checkbox\" checked><label for=\"sk-estimator-id-1\" class=\"sk-toggleable__label sk-toggleable__label-arrow\">KNeighborsClassifier</label><div class=\"sk-toggleable__content\"><pre>KNeighborsClassifier(n_neighbors=21)</pre></div></div></div></div></div>"
     },
     "execution_count": 7,
     "metadata": {},
     "output_type": "execute_result"
    }
   ],
   "source": [
    "# Create a knn classifier instance\n",
    "knn = k_nearest_neighbors()\n",
    "# Train the model\n",
    "knn.fit(X_train, y_train)"
   ],
   "metadata": {
    "collapsed": false,
    "ExecuteTime": {
     "end_time": "2024-01-19T19:43:48.973340535Z",
     "start_time": "2024-01-19T19:43:48.572888657Z"
    }
   },
   "id": "613dc0eead4efbe4",
   "execution_count": 7
  },
  {
   "cell_type": "markdown",
   "source": [
    "### Linear Discriminant Analysis"
   ],
   "metadata": {
    "collapsed": false
   },
   "id": "c78ed27bbcc09fc6"
  },
  {
   "cell_type": "code",
   "outputs": [
    {
     "data": {
      "text/plain": "LinearDiscriminantAnalysis()",
      "text/html": "<style>#sk-container-id-2 {color: black;}#sk-container-id-2 pre{padding: 0;}#sk-container-id-2 div.sk-toggleable {background-color: white;}#sk-container-id-2 label.sk-toggleable__label {cursor: pointer;display: block;width: 100%;margin-bottom: 0;padding: 0.3em;box-sizing: border-box;text-align: center;}#sk-container-id-2 label.sk-toggleable__label-arrow:before {content: \"▸\";float: left;margin-right: 0.25em;color: #696969;}#sk-container-id-2 label.sk-toggleable__label-arrow:hover:before {color: black;}#sk-container-id-2 div.sk-estimator:hover label.sk-toggleable__label-arrow:before {color: black;}#sk-container-id-2 div.sk-toggleable__content {max-height: 0;max-width: 0;overflow: hidden;text-align: left;background-color: #f0f8ff;}#sk-container-id-2 div.sk-toggleable__content pre {margin: 0.2em;color: black;border-radius: 0.25em;background-color: #f0f8ff;}#sk-container-id-2 input.sk-toggleable__control:checked~div.sk-toggleable__content {max-height: 200px;max-width: 100%;overflow: auto;}#sk-container-id-2 input.sk-toggleable__control:checked~label.sk-toggleable__label-arrow:before {content: \"▾\";}#sk-container-id-2 div.sk-estimator input.sk-toggleable__control:checked~label.sk-toggleable__label {background-color: #d4ebff;}#sk-container-id-2 div.sk-label input.sk-toggleable__control:checked~label.sk-toggleable__label {background-color: #d4ebff;}#sk-container-id-2 input.sk-hidden--visually {border: 0;clip: rect(1px 1px 1px 1px);clip: rect(1px, 1px, 1px, 1px);height: 1px;margin: -1px;overflow: hidden;padding: 0;position: absolute;width: 1px;}#sk-container-id-2 div.sk-estimator {font-family: monospace;background-color: #f0f8ff;border: 1px dotted black;border-radius: 0.25em;box-sizing: border-box;margin-bottom: 0.5em;}#sk-container-id-2 div.sk-estimator:hover {background-color: #d4ebff;}#sk-container-id-2 div.sk-parallel-item::after {content: \"\";width: 100%;border-bottom: 1px solid gray;flex-grow: 1;}#sk-container-id-2 div.sk-label:hover label.sk-toggleable__label {background-color: #d4ebff;}#sk-container-id-2 div.sk-serial::before {content: \"\";position: absolute;border-left: 1px solid gray;box-sizing: border-box;top: 0;bottom: 0;left: 50%;z-index: 0;}#sk-container-id-2 div.sk-serial {display: flex;flex-direction: column;align-items: center;background-color: white;padding-right: 0.2em;padding-left: 0.2em;position: relative;}#sk-container-id-2 div.sk-item {position: relative;z-index: 1;}#sk-container-id-2 div.sk-parallel {display: flex;align-items: stretch;justify-content: center;background-color: white;position: relative;}#sk-container-id-2 div.sk-item::before, #sk-container-id-2 div.sk-parallel-item::before {content: \"\";position: absolute;border-left: 1px solid gray;box-sizing: border-box;top: 0;bottom: 0;left: 50%;z-index: -1;}#sk-container-id-2 div.sk-parallel-item {display: flex;flex-direction: column;z-index: 1;position: relative;background-color: white;}#sk-container-id-2 div.sk-parallel-item:first-child::after {align-self: flex-end;width: 50%;}#sk-container-id-2 div.sk-parallel-item:last-child::after {align-self: flex-start;width: 50%;}#sk-container-id-2 div.sk-parallel-item:only-child::after {width: 0;}#sk-container-id-2 div.sk-dashed-wrapped {border: 1px dashed gray;margin: 0 0.4em 0.5em 0.4em;box-sizing: border-box;padding-bottom: 0.4em;background-color: white;}#sk-container-id-2 div.sk-label label {font-family: monospace;font-weight: bold;display: inline-block;line-height: 1.2em;}#sk-container-id-2 div.sk-label-container {text-align: center;}#sk-container-id-2 div.sk-container {/* jupyter's `normalize.less` sets `[hidden] { display: none; }` but bootstrap.min.css set `[hidden] { display: none !important; }` so we also need the `!important` here to be able to override the default hidden behavior on the sphinx rendered scikit-learn.org. See: https://github.com/scikit-learn/scikit-learn/issues/21755 */display: inline-block !important;position: relative;}#sk-container-id-2 div.sk-text-repr-fallback {display: none;}</style><div id=\"sk-container-id-2\" class=\"sk-top-container\"><div class=\"sk-text-repr-fallback\"><pre>LinearDiscriminantAnalysis()</pre><b>In a Jupyter environment, please rerun this cell to show the HTML representation or trust the notebook. <br />On GitHub, the HTML representation is unable to render, please try loading this page with nbviewer.org.</b></div><div class=\"sk-container\" hidden><div class=\"sk-item\"><div class=\"sk-estimator sk-toggleable\"><input class=\"sk-toggleable__control sk-hidden--visually\" id=\"sk-estimator-id-2\" type=\"checkbox\" checked><label for=\"sk-estimator-id-2\" class=\"sk-toggleable__label sk-toggleable__label-arrow\">LinearDiscriminantAnalysis</label><div class=\"sk-toggleable__content\"><pre>LinearDiscriminantAnalysis()</pre></div></div></div></div></div>"
     },
     "execution_count": 13,
     "metadata": {},
     "output_type": "execute_result"
    }
   ],
   "source": [
    "# Create a lda classifier instance\n",
    "lda = linear_discriminant_analysis()\n",
    "# Train the model\n",
    "lda.fit(X_train, encoder.inverse_transform((y_train > 0.5).astype(int).argmax(axis=1)))"
   ],
   "metadata": {
    "collapsed": false,
    "is_executing": true,
    "ExecuteTime": {
     "start_time": "2024-01-19T19:53:38.002776904Z"
    }
   },
   "id": "2fef3f38f172f419",
   "execution_count": null
  },
  {
   "cell_type": "markdown",
   "source": [
    "### Neural Binary Model"
   ],
   "metadata": {
    "collapsed": false
   },
   "id": "3d42472766765116"
  },
  {
   "cell_type": "code",
   "outputs": [
    {
     "name": "stdout",
     "output_type": "stream",
     "text": [
      "Epoch 1/20\n",
      "3754/3754 [==============================] - 9s 1ms/step - loss: 0.5116\n",
      "Epoch 2/20\n",
      "3754/3754 [==============================] - 6s 1ms/step - loss: 0.3260\n",
      "Epoch 3/20\n",
      "3754/3754 [==============================] - 5s 1ms/step - loss: 0.3049\n",
      "Epoch 4/20\n",
      "3754/3754 [==============================] - 6s 1ms/step - loss: 0.2940\n",
      "Epoch 5/20\n",
      "3754/3754 [==============================] - 6s 1ms/step - loss: 0.2873\n",
      "Epoch 6/20\n",
      "3754/3754 [==============================] - 5s 1ms/step - loss: 0.2803\n",
      "Epoch 7/20\n",
      "3754/3754 [==============================] - 6s 1ms/step - loss: 0.2743\n",
      "Epoch 8/20\n",
      "3754/3754 [==============================] - 5s 1ms/step - loss: 0.2698\n",
      "Epoch 9/20\n",
      "3754/3754 [==============================] - 5s 1ms/step - loss: 0.2637\n",
      "Epoch 10/20\n",
      "3754/3754 [==============================] - 5s 1ms/step - loss: 0.2594\n",
      "Epoch 11/20\n",
      "3754/3754 [==============================] - 5s 1ms/step - loss: 0.2533\n",
      "Epoch 12/20\n",
      "3754/3754 [==============================] - 6s 1ms/step - loss: 0.2482\n",
      "Epoch 13/20\n",
      "3754/3754 [==============================] - 5s 1ms/step - loss: 0.2432\n",
      "Epoch 14/20\n",
      "3754/3754 [==============================] - 5s 1ms/step - loss: 0.2372\n",
      "Epoch 15/20\n",
      "3754/3754 [==============================] - 5s 1ms/step - loss: 0.2327\n",
      "Epoch 16/20\n",
      "3754/3754 [==============================] - 6s 1ms/step - loss: 0.2282\n",
      "Epoch 17/20\n",
      "3754/3754 [==============================] - 5s 1ms/step - loss: 0.2242\n",
      "Epoch 18/20\n",
      "3754/3754 [==============================] - 5s 1ms/step - loss: 0.2194\n",
      "Epoch 19/20\n",
      "3754/3754 [==============================] - 5s 1ms/step - loss: 0.2154\n",
      "Epoch 20/20\n",
      "3754/3754 [==============================] - 5s 1ms/step - loss: 0.2110\n"
     ]
    },
    {
     "data": {
      "text/plain": "<keras.src.callbacks.History at 0x7fab0158c220>"
     },
     "execution_count": 9,
     "metadata": {},
     "output_type": "execute_result"
    }
   ],
   "source": [
    "# Create a neural network model\n",
    "nbm = neural_binary_model(X_train.shape[1])\n",
    "# Train the model\n",
    "nbm.fit(X_train, y_train, epochs=20, batch_size=64, validation_split=0, shuffle=True)"
   ],
   "metadata": {
    "collapsed": false,
    "ExecuteTime": {
     "end_time": "2024-01-19T19:47:07.182193959Z",
     "start_time": "2024-01-19T19:44:59.401446529Z"
    }
   },
   "id": "a8db29e225615c1c",
   "execution_count": 9
  },
  {
   "cell_type": "markdown",
   "source": [
    "## Evaluation"
   ],
   "metadata": {
    "collapsed": false
   },
   "id": "5174877f6272542"
  },
  {
   "cell_type": "markdown",
   "source": [
    "### K-Nearest Neighbors"
   ],
   "metadata": {
    "collapsed": false
   },
   "id": "951410780bb2c31e"
  },
  {
   "cell_type": "code",
   "outputs": [
    {
     "name": "stdout",
     "output_type": "stream",
     "text": [
      "Accuracy: 0.7647724813106674\n"
     ]
    },
    {
     "data": {
      "text/plain": "array([[39650,   949],\n       [13179,  6283]])"
     },
     "execution_count": 10,
     "metadata": {},
     "output_type": "execute_result"
    }
   ],
   "source": [
    "# Evaluate the model on the test set\n",
    "y_pred = knn.predict(X_test)\n",
    "\n",
    "# Convert one-hot encoded labels back to original labels\n",
    "y_test_labels = encoder.inverse_transform(y_test.argmax(axis=1))\n",
    "y_pred_labels = encoder.inverse_transform(y_pred.argmax(axis=1))\n",
    "\n",
    "# Evaluate the performance\n",
    "accuracy = accuracy_score(y_test_labels, y_pred_labels)\n",
    "print(f\"Accuracy: {accuracy}\")\n",
    "\n",
    "confusion_matrix(y_test_labels, y_pred_labels)"
   ],
   "metadata": {
    "collapsed": false,
    "ExecuteTime": {
     "end_time": "2024-01-19T19:49:49.235467631Z",
     "start_time": "2024-01-19T19:47:07.181545197Z"
    }
   },
   "id": "ece4bd687a4b1aca",
   "execution_count": 10
  },
  {
   "cell_type": "markdown",
   "source": [
    "### Linear Discriminant Analysis"
   ],
   "metadata": {
    "collapsed": false
   },
   "id": "bd0c57ae160b6f70"
  },
  {
   "cell_type": "code",
   "outputs": [
    {
     "name": "stdout",
     "output_type": "stream",
     "text": [
      "Accuracy: 0.5303275003746192\n"
     ]
    },
    {
     "data": {
      "text/plain": "array([[22353, 18246],\n       [ 9963,  9499]])"
     },
     "execution_count": 12,
     "metadata": {},
     "output_type": "execute_result"
    }
   ],
   "source": [
    "# Evaluate the model on the test set\n",
    "y_pred = lda.predict(X_test)\n",
    "\n",
    "# Convert one-hot encoded labels back to original labels\n",
    "y_test_labels = encoder.inverse_transform(y_test.argmax(axis=1))\n",
    "\n",
    "# Evaluate the performance\n",
    "accuracy = accuracy_score(y_test_labels, y_pred)\n",
    "print(f\"Accuracy: {accuracy}\")\n",
    "\n",
    "confusion_matrix(y_test_labels, y_pred)"
   ],
   "metadata": {
    "collapsed": false,
    "ExecuteTime": {
     "end_time": "2024-01-19T19:51:04.692868130Z",
     "start_time": "2024-01-19T19:51:04.576293998Z"
    }
   },
   "id": "d4c5776a50619e9e",
   "execution_count": 12
  },
  {
   "cell_type": "markdown",
   "source": [
    "### Neural Binary Model"
   ],
   "metadata": {
    "collapsed": false
   },
   "id": "b2bed8118179589a"
  },
  {
   "cell_type": "code",
   "outputs": [],
   "source": [
    "# Evaluate the model on the test set\n",
    "y_pred = nbm.predict(X_test)\n",
    "y_pred_binary = (y_pred > 0.5).astype(int)\n",
    "\n",
    "# Convert one-hot encoded labels back to original labels\n",
    "y_test_labels = encoder.inverse_transform(y_test.argmax(axis=1))\n",
    "y_pred_labels = encoder.inverse_transform(y_pred_binary.argmax(axis=1))\n",
    "\n",
    "# Evaluate the performance\n",
    "accuracy = accuracy_score(y_test_labels, y_pred_labels)\n",
    "print(f\"Accuracy: {accuracy}\")\n",
    "\n",
    "confusion_matrix(y_test_labels, y_pred_labels)"
   ],
   "metadata": {
    "collapsed": false,
    "ExecuteTime": {
     "end_time": "2024-01-19T19:49:49.796703716Z",
     "start_time": "2024-01-19T19:49:49.796495520Z"
    }
   },
   "id": "60080fca8dd4cf3b"
  },
  {
   "cell_type": "markdown",
   "source": [
    "## Prediction example\n",
    "Prediction will be performed for two drug pairs: Meperidine and Dexmedetomidine."
   ],
   "metadata": {
    "collapsed": false
   },
   "id": "f8c5937e2f011d1b"
  },
  {
   "cell_type": "code",
   "outputs": [],
   "source": [
    "# DB00454 (Meperidine) Feature vector\n",
    "drug_1_sim = [   0.00004,   0.00012,   0.00011,   0.00012,   0.84896,   0.00008,   0.00005,   0.00009,   0.00009,   0.00011,   0.00010,   0.00011,   0.00009,   0.00007,   0.00008,   0.00008,   0.00012,   0.00007,   0.00010,   0.00009,   0.00010,   0.00006,   0.00011,   0.00007,   0.00006,   0.00007,   0.00006,   0.00012,   0.00009,   0.00006,   0.00006,   0.00280,   0.00006,   0.00008,   0.00007,   0.00008,   0.00010,   0.00005,   0.00010,   0.00010,   0.00008,   0.00009,   0.00007,   0.00004,   0.00010,   0.00007,   0.00007,   0.00007,   0.00006,   0.00010,   0.00007,   0.00012,   0.00006,   0.00005,   0.00008,   0.00012,   0.00013,   0.00005,   0.00008,   0.00011,   0.00012,   0.00010,   0.00006,   0.00009,   0.00008,   0.00011,   0.00005,   0.00009,   0.00009,   0.00009,   0.00006,   0.00005,   0.00007,   0.00007,   0.00005,   0.00011,   0.00011,   0.00012,   0.00008,   0.00008,   0.00012,   0.00008,   0.00009,   0.00007,   0.00010,   0.00010,   0.00006,   0.00009,   0.00010,   0.00005,   0.00008,   0.00012,   0.00006,   0.00005,   0.00011,   0.00039,   0.00006,   0.00008,   0.00009,   0.00007,   0.00012,   0.00007,   0.00012,   0.00010,   0.00012,   0.00009,   0.00008,   0.00006,   0.00006,   0.00010,   0.00011,   0.00007,   0.00010,   0.00013,   0.00006,   0.00007,   0.00007,   0.00007,   0.00011,   0.00006,   0.00008,   0.00005,   0.00006,   0.00009,   0.00005,   0.00012,   0.00011,   0.04033,   0.00011,   0.00011,   0.00010,   0.00004,   0.00006,   0.00011,   0.00006,   0.00007,   0.00010,   0.00008,   0.00009,   0.00007,   0.00005,   0.00734,   0.00099,   0.00007,   0.00008,   0.00007,   0.00007,   0.00010,   0.00006,   0.00008,   0.00007,   0.00006,   0.00010,   0.00005,   0.00010,   0.00010,   0.00011,   0.00008,   0.00004,   0.00039,   0.00006,   0.00009,   0.00007,   0.00012,   0.00009,   0.00005,   0.00012,   0.00012,   0.00012,   0.00007,   0.00010,   0.00008,   0.00008,   0.00011,   0.00005,   0.00008,   0.00011,   0.00010,   0.00099,   0.00009,   0.00009,   0.00011,   0.00011,   0.00009,   0.00009,   0.00009,   0.00012,   0.00012,   0.00009,   0.00009,   0.00007,   0.01886,   0.00006,   0.00006,   0.00007,   0.04033,   0.00011,   0.00010,   0.00008,   0.00008,   0.00010,   0.00007,   0.00009,   0.00012,   0.00007,   0.00012,   0.00006,   0.00010,   0.00005,   0.00005,   0.00008,   0.00008,   0.00013,   0.00011,   0.00014,   0.00009,   0.00010,   0.00008,   0.00010,   0.00007,   0.00009,   0.00009,   0.00008,   0.00008,   0.00008,   0.00011,   0.00007,   0.00010,   0.00008,   0.00007,   0.00010,   0.00007,   0.00009,   0.00010,   0.00008,   0.00010,   0.00009,   0.00005,   0.00009,   0.00008,   0.00010,   0.00010,   0.00009,   0.00010,   0.00011,   0.00006,   0.00006,   0.00007,   0.00008,   0.00011,   0.00007,   0.00006,   0.00006,   0.00008,   0.00012,   0.00007,   0.00008,   0.00008,   0.00005,   0.00005,   0.00007,   0.00012,   0.00008,   0.00006,   0.00005,   0.00005,   0.00008,   0.00007,   0.00008,   0.00012,   0.00007,   0.00011,   0.00006,   0.00014,   0.00008,   0.00008,   0.00005,   0.00012,   0.00006,   0.00007,   0.00011,   0.00007,   0.00009,   0.00007,   0.00010,   0.00007,   0.00011,   0.00012,   0.00008,   0.01886,   0.00010,   0.00010,   0.00007,   0.00006,   0.00008,   0.00012,   0.00007,   0.00010,   0.00006,   0.00009,   0.00006,   0.00010,   0.00012,   0.00007,   0.00007,   0.00006,   0.00013,   0.00009,   0.00008,   0.00007,   0.00007,   0.00005,   0.00005,   0.00006,   0.00007,   0.00010,   0.00008,   0.00009,   0.00009,   0.00006,   0.00008,   0.00005,   0.00008,   0.00007,   0.00007,   0.00011,   0.00007,   0.00010,   0.00013,   0.00012,   0.00012,   0.00008,   0.00008,   0.00011,   0.00011,   0.00010,   0.00010,   0.00005,   0.00013,   0.00005,   0.00008,   0.14047,   0.00010,   0.00010,   0.00013,   0.00008,   0.00008,   0.00008,   0.00009,   0.00011,   0.00009,   0.00007,   0.00010,   0.00011,   0.00006,   0.00008,   0.00008,   0.00011,   0.00009,   0.00007,   0.00004,   0.00009,   0.00020,   0.00007,   0.00006,   0.00010,   0.00007,   0.00006,   0.00006,   0.00008,   0.00005,   0.00010,   0.00010,   0.00008,   0.00006,   0.00011,   0.00006,   0.00012,   0.00009,   0.00009,   0.00008,   0.00010,   0.00009,   0.00007,   0.00011,   0.00009,   0.00006,   0.00011,   0.00012,   0.00009,   0.00008,   0.00006,   0.00007,   0.00012,   0.00005,   0.00009,   0.00008,   0.00011,   0.00007,   0.00008,   0.00007,   0.00009,   0.00008,   0.00006,   0.00009,   0.00010,   0.00012,   0.00010,   0.00010,   0.00008,   0.00007,   0.00008,   0.00020,   0.00008,   0.00009,   0.00009,   0.00011,   0.00009,   0.00012,   0.00007,   0.00012,   0.00005,   0.00006,   0.00009,   0.00008,   0.00006,   0.00005,   0.00013,   0.00009,   0.00011,   0.00006,   0.00008,   0.00008,   0.00011,   0.00005,   0.00009,   0.00007,   0.00012,   0.00011,   0.00010,   0.00007,   0.00007,   0.00008,   0.00009,   0.00007,   0.00005,   0.00008,   0.00004,   0.00010,   0.00005,   0.00013,   0.00012,   0.00008,   0.00007,   0.00012,   0.00010,   0.00006,   0.00009,   0.00010,   0.00007,   0.00006,   0.00011,   0.00012,   0.00007,   0.00010,   0.09169,   0.00005,   0.00008,   0.00008,   0.00007,   0.00008,   0.00009,   0.00010,   0.00005,   0.00009,   0.00012,   0.00011,   0.00009,   0.00011,   0.00012,   0.00009,   0.00008,   0.09169,   0.00005,   0.00006,   0.00010,   0.00012,   0.00006,   0.00011,   0.00009,   0.00004,   0.00005,   0.00006,   0.00012,   0.00012,   0.00009,   0.00006,   0.00006,   0.00006,   0.00007,   0.00006,   0.00006,   0.00011,   0.00007,   0.00011,   0.00009,   0.00007,   0.00010,   0.00009,   0.00011,   0.00005,   0.00011,   0.00006,   0.00008,   0.00009,   0.00006,   0.00009,   0.00007,   0.00007,   0.00006,   0.00007,   0.00008,   0.00009,   0.00006,   0.14047,   0.00011,   0.00007,   0.00735,   0.00008,   0.00011,   0.00007,   0.00011,   0.00005,   0.00007,   0.00008,   0.00007,   0.00009,   0.00007,   0.00009,   0.00009,   0.00006,   0.00007,   0.00009,   0.00008,   0.00005,   0.00280,   0.00009,   0.00012]\n",
    "\n",
    "# DB00633 (Dexmedetomidine) Feature vector\n",
    "drug_2_sim = [   0.00002,   0.00006,   0.00006,   0.00006,   0.00007,   0.00016,   0.00003,   0.00011,   0.00005,   0.00006,   0.00005,   0.00008,   0.00011,   0.00044,   0.00004,   0.00004,   0.00008,   0.00004,   0.00010,   0.00018,   0.00010,   0.00003,   0.00009,   0.04014,   0.00003,   0.00004,   0.00003,   0.00008,   0.00012,   0.00003,   0.00003,   0.00007,   0.00003,   0.00016,   0.85059,   0.00013,   0.00010,   0.00029,   0.00010,   0.00006,   0.00004,   0.00011,   0.00004,   0.00002,   0.00005,   0.00016,   0.00003,   0.00004,   0.00003,   0.00005,   0.14089,   0.00008,   0.00003,   0.00002,   0.00005,   0.00008,   0.00007,   0.00003,   0.00004,   0.00009,   0.00007,   0.00010,   0.00003,   0.00005,   0.00013,   0.00006,   0.00003,   0.00011,   0.00012,   0.00005,   0.00003,   0.00003,   0.00017,   0.04062,   0.00003,   0.00006,   0.00009,   0.00006,   0.00014,   0.00014,   0.00008,   0.00016,   0.00012,   0.00004,   0.00005,   0.00009,   0.00003,   0.00005,   0.00010,   0.00003,   0.00014,   0.00008,   0.00003,   0.00002,   0.00006,   0.00007,   0.00003,   0.00013,   0.00012,   0.01859,   0.00006,   0.00017,   0.00006,   0.00006,   0.00008,   0.00012,   0.00015,   0.00003,   0.00003,   0.00005,   0.00006,   0.00004,   0.00009,   0.00007,   0.00003,   0.00004,   0.00017,   0.00016,   0.00009,   0.00003,   0.00013,   0.00003,   0.00003,   0.00017,   0.00003,   0.00008,   0.00009,   0.00007,   0.00009,   0.00006,   0.00005,   0.00002,   0.00003,   0.00009,   0.00003,   0.00025,   0.00009,   0.00004,   0.00005,   0.00004,   0.00003,   0.00007,   0.00007,   0.00004,   0.00013,   0.00004,   0.00004,   0.00006,   0.00003,   0.00013,   0.00017,   0.00003,   0.00005,   0.00003,   0.00005,   0.00010,   0.00006,   0.00004,   0.00002,   0.00007,   0.00003,   0.00012,   0.00004,   0.00008,   0.00005,   0.00003,   0.00006,   0.00008,   0.00007,   0.00003,   0.00010,   0.00004,   0.00013,   0.00009,   0.00003,   0.00004,   0.00006,   0.00010,   0.00007,   0.00005,   0.00011,   0.00006,   0.00008,   0.00011,   0.00012,   0.00012,   0.00008,   0.00008,   0.00005,   0.00005,   0.00004,   0.00007,   0.00003,   0.00003,   0.00004,   0.00007,   0.00006,   0.00009,   0.00013,   0.00017,   0.00005,   0.00004,   0.00011,   0.00008,   0.00017,   0.00007,   0.00003,   0.00010,   0.00003,   0.00003,   0.00014,   0.00014,   0.00007,   0.00006,   0.00007,   0.00005,   0.00005,   0.00004,   0.00010,   0.00004,   0.00012,   0.00018,   0.00004,   0.00014,   0.00013,   0.00006,   0.00105,   0.00009,   0.00005,   0.00004,   0.00005,   0.00004,   0.00005,   0.00011,   0.00004,   0.00011,   0.00012,   0.00003,   0.00012,   0.00013,   0.00010,   0.00005,   0.00011,   0.00006,   0.00009,   0.00003,   0.00003,   0.00004,   0.00014,   0.00006,   0.00004,   0.00003,   0.00003,   0.00004,   0.00006,   0.00018,   0.00013,   0.00004,   0.00029,   0.00003,   0.00004,   0.00008,   0.00004,   0.00003,   0.00003,   0.00003,   0.00004,   0.00003,   0.00014,   0.00008,   0.00004,   0.00008,   0.00003,   0.00007,   0.00004,   0.00014,   0.00029,   0.00007,   0.00003,   0.00004,   0.00006,   0.00004,   0.00012,   0.00004,   0.00005,   0.00004,   0.00009,   0.00007,   0.00014,   0.00007,   0.00005,   0.00010,   0.00017,   0.00003,   0.00004,   0.00008,   0.00016,   0.00010,   0.00003,   0.00005,   0.00003,   0.00005,   0.00008,   0.00004,   0.00004,   0.00003,   0.00007,   0.00011,   0.00004,   0.00016,   0.00745,   0.00003,   0.00003,   0.00003,   0.00004,   0.00005,   0.00004,   0.00012,   0.00005,   0.00003,   0.00015,   0.00003,   0.00014,   0.00003,   0.01904,   0.00009,   0.00004,   0.00005,   0.00007,   0.00007,   0.00008,   0.00014,   0.00004,   0.00009,   0.00009,   0.00010,   0.00010,   0.00003,   0.00007,   0.00003,   0.00004,   0.00007,   0.00005,   0.00005,   0.00007,   0.00004,   0.00004,   0.00013,   0.00011,   0.00009,   0.00011,   0.00003,   0.00006,   0.00009,   0.00003,   0.00013,   0.00014,   0.00009,   0.00011,   0.00016,   0.00002,   0.00011,   0.00007,   0.00004,   0.00003,   0.00010,   0.00004,   0.00050,   0.00003,   0.00004,   0.00003,   0.00005,   0.00009,   0.00004,   0.00003,   0.00006,   0.00003,   0.00008,   0.00005,   0.00005,   0.00016,   0.00010,   0.00005,   0.00017,   0.00009,   0.00005,   0.00273,   0.00009,   0.00008,   0.00005,   0.00015,   0.00003,   0.00019,   0.00006,   0.00003,   0.00005,   0.00004,   0.00006,   0.00004,   0.00004,   0.00004,   0.00005,   0.00004,   0.00003,   0.00013,   0.00010,   0.00006,   0.00005,   0.00010,   0.00004,   0.00017,   0.00014,   0.00007,   0.00015,   0.00012,   0.00005,   0.00006,   0.00005,   0.00006,   0.14115,   0.00006,   0.00003,   0.00003,   0.00011,   0.00015,   0.00003,   0.00003,   0.00007,   0.00005,   0.00006,   0.00003,   0.00015,   0.00004,   0.00009,   0.00003,   0.00005,   0.00004,   0.00007,   0.00006,   0.00006,   0.00016,   0.09180,   0.00004,   0.00012,   0.00004,   0.00003,   0.00004,   0.00002,   0.00009,   0.00003,   0.00007,   0.00008,   0.00013,   0.00017,   0.00006,   0.00005,   0.00103,   0.00005,   0.00005,   0.00004,   0.00003,   0.00008,   0.00008,   0.00004,   0.00010,   0.00007,   0.00003,   0.00013,   0.00004,   0.00716,   0.00004,   0.00012,   0.00010,   0.00003,   0.00011,   0.00006,   0.00006,   0.00005,   0.00006,   0.00007,   0.00005,   0.00013,   0.00007,   0.00003,   0.00003,   0.00010,   0.00008,   0.00003,   0.00008,   0.00012,   0.00002,   0.00003,   0.00003,   0.00008,   0.00006,   0.00005,   0.00003,   0.00003,   0.00003,   0.00004,   0.00003,   0.00003,   0.00009,   0.00004,   0.00009,   0.00011,   0.00016,   0.00010,   0.00012,   0.00008,   0.00029,   0.00008,   0.00003,   0.00004,   0.00005,   0.00003,   0.00005,   0.00004,   0.00288,   0.00030,   0.00017,   0.00005,   0.00005,   0.00034,   0.00007,   0.00006,   0.00004,   0.00007,   0.00004,   0.00006,   0.00004,   0.00006,   0.00003,   0.00004,   0.00014,   0.00017,   0.00005,   0.09228,   0.00012,   0.00011,   0.00003,   0.00018,   0.00011,   0.00016,   0.00003,   0.00007,   0.00011,   0.00008\n",
    "]\n",
    "\n",
    "drugs_comb = np.concatenate((drug_1_sim, drug_2_sim))\n",
    "drugs_comb = drugs_comb.reshape(1, -1)\n",
    "\n",
    "pred_binary = (nbm.predict(drugs_comb) > 0.5).astype(int)\n",
    "\n",
    "# Convert one-hot encoded labels back to original labels\n",
    "pred_label = encoder.inverse_transform(pred_binary.argmax(axis=1))\n",
    "\n",
    "pred_label"
   ],
   "metadata": {
    "collapsed": false,
    "ExecuteTime": {
     "start_time": "2024-01-19T19:49:49.798970197Z"
    }
   },
   "id": "652c3dfc93e91aca",
   "execution_count": null
  },
  {
   "cell_type": "markdown",
   "source": [
    "The results obtained above indicate a prediction of \"False,\" suggesting that there are no interactions between the specified drug pairs."
   ],
   "metadata": {
    "collapsed": false
   },
   "id": "dceaedb2b15229d9"
  },
  {
   "cell_type": "code",
   "outputs": [],
   "source": [],
   "metadata": {
    "collapsed": false,
    "ExecuteTime": {
     "start_time": "2024-01-19T19:49:49.815145420Z"
    }
   },
   "id": "609c36471cc5ad33",
   "execution_count": null
  }
 ],
 "metadata": {
  "kernelspec": {
   "display_name": "Python 3",
   "language": "python",
   "name": "python3"
  },
  "language_info": {
   "codemirror_mode": {
    "name": "ipython",
    "version": 2
   },
   "file_extension": ".py",
   "mimetype": "text/x-python",
   "name": "python",
   "nbconvert_exporter": "python",
   "pygments_lexer": "ipython2",
   "version": "2.7.6"
  }
 },
 "nbformat": 4,
 "nbformat_minor": 5
}
